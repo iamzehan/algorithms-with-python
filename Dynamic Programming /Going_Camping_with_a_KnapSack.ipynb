{
  "nbformat": 4,
  "nbformat_minor": 0,
  "metadata": {
    "colab": {
      "provenance": [],
      "authorship_tag": "ABX9TyOYDWaDTv9bG+lMT/T2C08q",
      "include_colab_link": true
    },
    "kernelspec": {
      "name": "python3",
      "display_name": "Python 3"
    },
    "language_info": {
      "name": "python"
    }
  },
  "cells": [
    {
      "cell_type": "markdown",
      "metadata": {
        "id": "view-in-github",
        "colab_type": "text"
      },
      "source": [
        "<a href=\"https://colab.research.google.com/github/iamzehan/algorithms-with-python/blob/main/Dynamic%20Programming%20/Going_Camping_with_a_KnapSack.ipynb\" target=\"_parent\"><img src=\"https://colab.research.google.com/assets/colab-badge.svg\" alt=\"Open In Colab\"/></a>"
      ]
    },
    {
      "cell_type": "markdown",
      "source": [
        "Suppose you’re going camping. You have a knapsack that will hold 6 lb, and you can take the following items. Each has a value, and the higher the value, the more important the item is:\n",
        "\n",
        "* Water, 3 lb, 10\n",
        "* Book, 1 lb, 3\n",
        "* Food, 2 lb, 9\n",
        "* Jacket, 2 lb, 5\n",
        "* Camera, 1 lb, 6\n",
        "\n",
        "What’s the optimal set of items to take on your camping trip?"
      ],
      "metadata": {
        "id": "zSJS1MX8gR9j"
      }
    },
    {
      "cell_type": "code",
      "execution_count": null,
      "metadata": {
        "colab": {
          "base_uri": "https://localhost:8080/"
        },
        "id": "JSi6DtnxgELj",
        "outputId": "4e20deef-b164-483a-b9a6-a0125ab47998"
      },
      "outputs": [
        {
          "output_type": "stream",
          "name": "stdout",
          "text": [
            "Optimal set of items to take:\n",
            "Camera - Weight: 1 lb, Value: $6\n",
            "Food - Weight: 2 lb, Value: $9\n",
            "Water - Weight: 3 lb, Value: $10\n",
            "Total Value: $25\n"
          ]
        }
      ],
      "source": [
        "def camping_knapsack(items, capacity):\n",
        "    n = len(items)\n",
        "    # Initialize a table to store the maximum values for different capacities\n",
        "    dp = [[0] * (capacity + 1) for _ in range(n + 1)]\n",
        "\n",
        "    for i in range(1, n + 1):\n",
        "        for w in range(1, capacity + 1):\n",
        "            # If the current item can fit in the knapsack, consider taking it\n",
        "            if items[i - 1][1] <= w:\n",
        "                dp[i][w] = max(dp[i - 1][w], dp[i - 1][w - items[i - 1][1]] + items[i - 1][2])\n",
        "            else:\n",
        "                # If it can't fit, don't take it\n",
        "                dp[i][w] = dp[i - 1][w]\n",
        "\n",
        "    # Backtrack to find the selected items\n",
        "    selected_items = []\n",
        "    i, w = n, capacity\n",
        "    while i > 0 and w > 0:\n",
        "        if dp[i][w] != dp[i - 1][w]:\n",
        "            selected_items.append(items[i - 1])\n",
        "            w -= items[i - 1][1]\n",
        "        i -= 1\n",
        "\n",
        "    return dp[n][capacity], selected_items\n",
        "\n",
        "# Define the items\n",
        "items = [(\"Water\", 3, 10), (\"Book\", 1, 3), (\"Food\", 2, 9), (\"Jacket\", 2, 5), (\"Camera\", 1, 6)]\n",
        "\n",
        "# Define the knapsack capacity\n",
        "capacity = 6\n",
        "\n",
        "# Find the optimal set of items and their total value\n",
        "max_value, selected_items = camping_knapsack(items, capacity)\n",
        "\n",
        "# Print the results\n",
        "print(f\"Optimal set of items to take:\")\n",
        "for item in selected_items:\n",
        "    print(f\"{item[0]} - Weight: {item[1]} lb, Value: ${item[2]}\")\n",
        "print(f\"Total Value: ${max_value}\")\n"
      ]
    },
    {
      "cell_type": "markdown",
      "source": [
        "The given code implements a dynamic programming solution to the 0/1 Knapsack problem, which is a classic optimization problem. The goal is to determine the optimal set of items to take in a knapsack with a given capacity while maximizing the total value of the items. The code also includes a backtracking step to find the selected items that contribute to the maximum value.\n",
        "\n",
        "Here's a step-by-step explanation of how the code works, with a focus on the backtracking part:\n",
        "\n",
        "1. **Initialization**:\n",
        "   - `n` is the number of items available for selection.\n",
        "   - `dp` is a 2D array (table) where `dp[i][w]` represents the maximum value that can be obtained with the first `i` items and a knapsack capacity of `w`. It is initialized with zeros.\n",
        "\n",
        "2. **Dynamic Programming**:\n",
        "   - The code uses a nested loop to fill in the `dp` table iteratively.\n",
        "   - The outer loop iterates through each item (`i`) from the first item to the last item.\n",
        "   - The inner loop iterates through each possible capacity (`w`) of the knapsack, from 1 to the given capacity.\n",
        "   - For each item, it checks whether the item can fit into the knapsack at the current capacity (`items[i - 1][1]` is the weight of the item). If it can fit, it considers two options:\n",
        "     - Not taking the current item, which means the value remains the same as for the previous item at the same capacity: `dp[i][w] = dp[i - 1][w]`.\n",
        "     - Taking the current item, which means subtracting its weight from the current capacity and adding its value: `dp[i][w] = dp[i - 1][w - items[i - 1][1]] + items[i - 1][2]`.\n",
        "   - If the item cannot fit in the knapsack at the current capacity, it simply inherits the value from the previous item without it.\n",
        "\n",
        "3. **Backtracking**:\n",
        "   - After the dynamic programming table `dp` is filled, the code performs backtracking to find the selected items.\n",
        "   - It starts from the bottom-right corner of the `dp` table (`i = n`, `w = capacity`) and iterates backward while there are items left to consider and available capacity.\n",
        "   - If the value at `dp[i][w]` is not the same as the value at `dp[i - 1][w]`, it means the `i`-th item was included in the knapsack. Therefore, it adds this item to the `selected_items` list and subtracts its weight from the current capacity.\n",
        "   - It then decrements `i` to consider the next item and repeats the process until it reaches the top-left corner of the `dp` table.\n",
        "\n",
        "4. **Result**:\n",
        "   - The function returns the maximum value that can be obtained (`dp[n][capacity]`) and the list of selected items.\n",
        "   - The selected items are printed with their names, weights, and values.\n",
        "\n",
        "In summary, this code first uses dynamic programming to find the maximum value that can be obtained with the given items and knapsack capacity. Then, it uses backtracking to identify which items should be included in the knapsack to achieve this maximum value."
      ],
      "metadata": {
        "id": "0IPoHJu1GP3X"
      }
    }
  ]
}