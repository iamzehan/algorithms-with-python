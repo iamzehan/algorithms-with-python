{
  "nbformat": 4,
  "nbformat_minor": 0,
  "metadata": {
    "colab": {
      "provenance": [],
      "authorship_tag": "ABX9TyPy/pkUMJ6jeAWHu6hg31Ui",
      "include_colab_link": true
    },
    "kernelspec": {
      "name": "python3",
      "display_name": "Python 3"
    },
    "language_info": {
      "name": "python"
    }
  },
  "cells": [
    {
      "cell_type": "markdown",
      "metadata": {
        "id": "view-in-github",
        "colab_type": "text"
      },
      "source": [
        "<a href=\"https://colab.research.google.com/github/iamzehan/algorithms-with-python/blob/main/Sorting%20Algorithms/heapsort_explained.ipynb\" target=\"_parent\"><img src=\"https://colab.research.google.com/assets/colab-badge.svg\" alt=\"Open In Colab\"/></a>"
      ]
    },
    {
      "cell_type": "markdown",
      "source": [
        "# **History**\n",
        "___\n",
        "\n",
        "The Heap Sort algorithm was developed by J.W. J. Williams in 1964 and refined by Robert W. Floyd in 1965. It is a comparison-based sorting algorithm that falls under the category of selection sort. Heap Sort is known for its efficiency and has an average and worst-case time complexity of O(n log n), which makes it one of the most efficient sorting algorithms in terms of time complexity.\n",
        "\n",
        "Brief History:\n",
        "\n",
        "1. **J.W. J. Williams (1964)**: The algorithm was initially conceived by J.W. J. Williams while he was working at the IBM Research Center in Yorktown Heights, New York. His primary goal was to develop an efficient in-place sorting algorithm. Williams' algorithm was an initial step towards the development of the Heap Sort we know today.\n",
        "\n",
        "2. **Robert W. Floyd (1965)**: Robert W. Floyd, a renowned computer scientist, further refined and popularized the algorithm. He introduced the idea of turning the array into a binary heap data structure and performing the heap operations to sort the elements. This approach reduced the number of comparisons and swaps required, making Heap Sort even more efficient.\n",
        "\n",
        "Heap Sort gained popularity due to its reliable O(n log n) time complexity and relatively simple implementation compared to other sorting algorithms like quicksort and mergesort. It has been widely used in computer science and programming ever since its development.\n",
        "\n",
        "Heap Sort's efficient time complexity makes it suitable for various applications, including database systems, operating systems, and embedded systems, where performance is critical. It remains a valuable tool in the toolbox of algorithms used by computer scientists and programmers for sorting large datasets efficiently."
      ],
      "metadata": {
        "id": "tWHvFRq3wluj"
      }
    },
    {
      "cell_type": "markdown",
      "source": [
        "## **Implementation**"
      ],
      "metadata": {
        "id": "tvPjAH6NwqGY"
      }
    },
    {
      "cell_type": "code",
      "execution_count": null,
      "metadata": {
        "id": "GHNzYx2ZwO9u"
      },
      "outputs": [],
      "source": [
        "# Import required libraries\n",
        "from typing import List\n",
        "\n",
        "# Define the heapify function\n",
        "def heapify(arr: List[int], n: int, i: int):\n",
        "    # Find the largest among the root and its left and right children\n",
        "    largest = i\n",
        "    left_child = 2 * i + 1\n",
        "    right_child = 2 * i + 2\n",
        "\n",
        "    # Check if the left child exists and is larger than the current largest\n",
        "    if left_child < n and arr[i] < arr[left_child]:\n",
        "        largest = left_child\n",
        "\n",
        "    # Check if the right child exists and is larger than the current largest\n",
        "    if right_child < n and arr[largest] < arr[right_child]:\n",
        "        largest = right_child\n",
        "\n",
        "    # If the largest element is not the current root, swap them and continue heapifying\n",
        "    if largest != i:\n",
        "        arr[i], arr[largest] = arr[largest], arr[i]  # Swap elements\n",
        "        heapify(arr, n, largest)  # Recursively heapify the affected subtree\n",
        "\n",
        "# Define the heapSort function\n",
        "def heapSort(arr: List[int]):\n",
        "    n = len(arr)\n",
        "\n",
        "    # Build a max heap (rearrange the array)\n",
        "    for i in range(n // 2 - 1, -1, -1):\n",
        "        heapify(arr, n, i)\n",
        "\n",
        "    # Extract elements one by one from the heap\n",
        "    for i in range(n - 1, 0, -1):\n",
        "        # Swap the current root with the last element in the heap\n",
        "        arr[i], arr[0] = arr[0], arr[i]\n",
        "\n",
        "        # Call heapify on the reduced heap\n",
        "        heapify(arr, i, 0)\n",
        "\n",
        "# Example usage\n",
        "arr = [1, 12, 9, 5, 6, 10]\n",
        "\n",
        "# Call heapSort to sort the array\n",
        "heapSort(arr)\n",
        "\n",
        "# Print the sorted array\n",
        "n = len(arr)\n",
        "print(\"Sorted array is:\")\n",
        "for i in range(n):\n",
        "    print(\"%d \" % arr[i], end='')"
      ]
    },
    {
      "cell_type": "markdown",
      "source": [
        "## **Dissection**\n",
        "___\n",
        "\n",
        "Let's use the provided array `[1, 12, 9, 5, 6, 10]` and break down the code step by step using this array.\n",
        "\n",
        "**Step 1**: Initialize the array and call `heapSort(arr)`.\n",
        "\n",
        "```python\n",
        "arr = [1, 12, 9, 5, 6, 10]\n",
        "heapSort(arr)\n",
        "```\n",
        "\n",
        "**Step 2 - `heapSort` Function**:\n",
        "\n",
        "- Calculate the length of the array (`n = 6`).\n",
        "\n",
        "**Step 3 - Building the Max Heap**:\n",
        "\n",
        "- We start by calling `heapify` on non-leaf nodes in reverse order.\n",
        "\n",
        "    - **First Iteration (i=2)**:\n",
        "        - `i = 2`, `arr[i] = 9`\n",
        "        - `left_child = 2 * 2 + 1 = 5`, `right_child = 2 * 2 + 2 = 6`\n",
        "        - Check if `arr[2] < arr[5]` (i.e., `9 < 10`). Since it's true, `largest = 5`.\n",
        "        - Check if `arr[5] < arr[6]`. Since there is no right child, we don't perform this check.\n",
        "        - Since `largest` is not equal to `i`, we swap `arr[2]` and `arr[5]` (swap 9 and 10).\n",
        "        - The array after the first heapify: `[1, 12, 10, 5, 6, 9]`\n",
        "\n",
        "    - **Second Iteration (i=1)**:\n",
        "        - `i = 1`, `arr[i] = 12`\n",
        "        - `left_child = 2 * 1 + 1 = 3`, `right_child = 2 * 1 + 2 = 4`\n",
        "        - Check if `arr[1] < arr[3]` (i.e., `12 < 5`). This condition is false.\n",
        "        - Check if `arr[4] < arr[3]` (i.e., `6 < 5`). This condition is false.\n",
        "        - No swapping is performed.\n",
        "        - The array remains the same: `[1, 12, 10, 5, 6, 9]`\n",
        "\n",
        "    - **Third Iteration (i=0)**:\n",
        "        - `i = 0`, `arr[i] = 1`\n",
        "        - `left_child = 2 * 0 + 1 = 1`, `right_child = 2 * 0 + 2 = 2`\n",
        "        - Check if `arr[0] < arr[1]` (i.e., `1 < 12`). Since it's true, `largest = 1`.\n",
        "        - Check if `arr[1] < arr[2]` (i.e., `12 < 10`). This condition is false.\n",
        "        - Since `largest` is not equal to `i`, we swap `arr[0]` and `arr[1]` (swap 1 and 12).\n",
        "        - The array after the third heapify: `[12, 1, 10, 5, 6, 9]`\n",
        "\n",
        "- The array after building the max heap: `[12, 1, 10, 5, 6, 9]`\n",
        "\n",
        "**Step 4 - Sorting the Array**:\n",
        "\n",
        "- We start extracting elements from the max heap and placing them at the end of the array while maintaining the max heap property.\n",
        "\n",
        "    - **First Extraction**:\n",
        "        - Swap `arr[5]` and `arr[0]` (swap 9 and 12).\n",
        "        - Reduce the heap size by 1 (`i = 5`).\n",
        "        - The array after the first extraction: `[9, 1, 10, 5, 6, 12]`\n",
        "\n",
        "    - **Second Extraction**:\n",
        "        - Swap `arr[4]` and `arr[0]` (swap 6 and 9).\n",
        "        - Reduce the heap size by 1 (`i = 4`).\n",
        "        - The array after the second extraction: `[6, 1, 10, 5, 9, 12]`\n",
        "\n",
        "    - **Third Extraction**:\n",
        "        - Swap `arr[3]` and `arr[0]` (swap 5 and 6).\n",
        "        - Reduce the heap size by 1 (`i = 3`).\n",
        "        - The array after the third extraction: `[5, 1, 10, 6, 9, 12]`\n",
        "\n",
        "    - **Fourth Extraction**:\n",
        "        - Swap `arr[2]` and `arr[0]` (swap 10 and 5).\n",
        "        - Reduce the heap size by 1 (`i = 2`).\n",
        "        - The array after the fourth extraction: `[10, 1, 5, 6, 9, 12]`\n",
        "\n",
        "    - **Fifth Extraction**:\n",
        "        - Swap `arr[1]` and `arr[0]` (swap 1 and 10).\n",
        "        - Reduce the heap size by 1 (`i = 1`).\n",
        "        - The array after the fifth extraction: `[1, 10, 5, 6, 9, 12]`\n",
        "\n",
        "- The array is now sorted in ascending order.\n",
        "\n",
        "**Step 5 - Printing the Sorted Array**:\n",
        "\n",
        "The code prints the sorted array:\n",
        "\n",
        "```\n",
        "Sorted array is:\n",
        "1 5 6 9 10 12\n",
        "```\n",
        "\n",
        "So, the code successfully sorted the given array using the Heap Sort algorithm.\n",
        "\n"
      ],
      "metadata": {
        "id": "3tYho7j1wt7x"
      }
    }
  ]
}