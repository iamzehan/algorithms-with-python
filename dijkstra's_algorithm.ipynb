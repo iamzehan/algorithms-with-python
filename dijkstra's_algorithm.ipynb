{
  "cells": [
    {
      "cell_type": "markdown",
      "metadata": {
        "id": "gE0HbrB5X2-U"
      },
      "source": [
        "<h1 align=\"center\">Dijkstra's Algorithm</h1>\n",
        "<h3 align = \"center\"> <b> The following is a graph that you have to ensure you get from A to Z, by using minimum cost. </b> </h3>"
      ]
    },
    {
      "cell_type": "markdown",
      "metadata": {
        "id": "oCc22cwNXzW0"
      },
      "source": [
        "![image.png](data:image/png;base64,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)"
      ]
    },
    {
      "cell_type": "markdown",
      "metadata": {
        "id": "gwpuJWv2ZN30"
      },
      "source": [
        "### The graph should look like this in a hash table -"
      ]
    },
    {
      "cell_type": "code",
      "execution_count": 266,
      "metadata": {
        "id": "HtFRCdUAXvEz"
      },
      "outputs": [],
      "source": [
        "graph = {}\n",
        "graph[\"a\"] = {}\n",
        "graph[\"a\"][\"b\"] = 9\n",
        "graph[\"a\"][\"c\"] = 4\n",
        "graph[\"a\"][\"d\"] = 7\n",
        "graph[\"b\"] = {}\n",
        "graph[\"b\"][\"e\"] = 11\n",
        "graph[\"c\"] = {}\n",
        "graph[\"c\"][\"e\"] = 17\n",
        "graph[\"c\"][\"f\"] = 12\n",
        "graph[\"d\"] ={}\n",
        "graph[\"d\"][\"f\"] = 14\n",
        "graph[\"e\"] = {}\n",
        "graph[\"e\"][\"z\"] = 5\n",
        "graph[\"f\"] = {}\n",
        "graph[\"f\"][\"z\"] = 9\n",
        "graph[\"z\"] = None"
      ]
    },
    {
      "cell_type": "markdown",
      "metadata": {
        "id": "A094PhyacedN"
      },
      "source": [
        "| Node | Neighbor | Costs |\n",
        "|------|----------|--------|\n",
        "| a    | b        | 9      |\n",
        "| a    | c        | 4      |\n",
        "| a    | d        | 7      |\n",
        "| b    | e        | 11     |\n",
        "| c    | e        | 17     |\n",
        "| c    | f        | 12     |\n",
        "| d    | f        | 12     |\n",
        "| e    | z        | 5      |\n",
        "| f    | z        | 9      |\n",
        "| z    |          |        |"
      ]
    },
    {
      "cell_type": "markdown",
      "metadata": {
        "id": "-J5wWrxedDQ9"
      },
      "source": [
        "Now we are going to need a hash table for costs:"
      ]
    },
    {
      "cell_type": "code",
      "execution_count": 293,
      "metadata": {
        "id": "7GKqMJLnazKk"
      },
      "outputs": [],
      "source": [
        "costs = {}\n",
        "costs [\"b\"] = 9\n",
        "costs [\"c\"] = 4\n",
        "costs [\"d\"] = 7\n",
        "costs[\"e\"] = float(\"inf\")\n",
        "costs[\"f\"] = float(\"inf\")\n",
        "costs [\"z\"] = float(\"inf\")"
      ]
    },
    {
      "cell_type": "code",
      "execution_count": 276,
      "metadata": {
        "colab": {
          "base_uri": "https://localhost:8080/"
        },
        "id": "uymD9DDfhmoF",
        "outputId": "197f04d4-540a-4ddb-ac60-e93043c79e98"
      },
      "outputs": [
        {
          "name": "stdout",
          "output_type": "stream",
          "text": [
            "{'b': 9, 'c': 4, 'd': 7, 'e': inf, 'f': inf, 'z': inf}\n"
          ]
        }
      ],
      "source": [
        "print(costs)"
      ]
    },
    {
      "cell_type": "markdown",
      "metadata": {
        "id": "7ETHNNApjdKW"
      },
      "source": [
        "We also need a hashtable for parents"
      ]
    },
    {
      "cell_type": "code",
      "execution_count": 290,
      "metadata": {
        "id": "rsLoO9ZTjaj9"
      },
      "outputs": [],
      "source": [
        "parents = {}\n",
        "parents[\"b\"] = \"a\"\n",
        "parents[\"c\"] = \"a\"\n",
        "parents[\"d\"] = \"a\"\n",
        "# parents[\"e\"] = \"c\"\n",
        "# parents[\"e\"] = \"b\"\n",
        "# parents[\"f\"] = \"c\"\n",
        "# parents[\"f\"] = \"d\"\n",
        "parents[\"z\"] = None"
      ]
    },
    {
      "cell_type": "code",
      "execution_count": 270,
      "metadata": {
        "colab": {
          "base_uri": "https://localhost:8080/"
        },
        "id": "ED1u5RnljuAu",
        "outputId": "e250ed88-11c8-4af0-e428-185fc03ce2ce"
      },
      "outputs": [
        {
          "name": "stdout",
          "output_type": "stream",
          "text": [
            "{'b': 'a', 'c': 'a', 'd': 'a', 'z': None}\n"
          ]
        }
      ],
      "source": [
        "print(parents)"
      ]
    },
    {
      "cell_type": "code",
      "execution_count": 271,
      "metadata": {
        "id": "P9vArk-dj63G"
      },
      "outputs": [],
      "source": [
        "def find_lowest_cost_node(costs,processed):\n",
        "  lowest_cost = float(\"inf\")\n",
        "  lowest_cost_node = None\n",
        "  for node in costs:\n",
        "    cost = costs[node]\n",
        "    if cost < lowest_cost and node not in processed:\n",
        "      lowest_cost = cost\n",
        "      lowest_cost_node = node\n",
        "  return lowest_cost_node"
      ]
    },
    {
      "cell_type": "code",
      "execution_count": 286,
      "metadata": {
        "id": "NZv0LDXIjxye"
      },
      "outputs": [],
      "source": [
        "def dijkstras_algorithm(graph,costs,parents):\n",
        "  cost = 0\n",
        "  processed = []\n",
        "  node = find_lowest_cost_node(costs,processed)\n",
        "  while node is not None:\n",
        "    cost = costs[node]\n",
        "    print(\"-------------------------\")\n",
        "    print(f\"Node: {node} Cost:{cost}\")\n",
        "    print(\"-------------------------\")\n",
        "    neighbors = graph[node]\n",
        "    print(f\"neighbours of {node} are {neighbors}\")\n",
        "    if neighbors !=None:\n",
        "      for n in neighbors.keys():\n",
        "        new_cost = cost + neighbors[n]\n",
        "        print(costs)\n",
        "        print(f\"New cost to get to {node}=>{n}: {new_cost}\")\n",
        "        if new_cost < costs[n]:\n",
        "          costs[n] = new_cost # update cost\n",
        "          parents[n] = node # new node becomes new parent for this neighbor\n",
        "          print(f\"Parent of {n} is now {node}\")\n",
        "      print(\"\\n\")\n",
        "    processed.append(node)\n",
        "    node = find_lowest_cost_node(costs,processed)\n",
        "  print(\"\\n\")\n",
        "  print(\"Nodes Processed: \",processed)\n",
        "  return costs"
      ]
    },
    {
      "cell_type": "code",
      "execution_count": 294,
      "metadata": {
        "colab": {
          "base_uri": "https://localhost:8080/"
        },
        "id": "ZQVL7jv2Fo_e",
        "outputId": "86924912-45b9-420c-de5a-39bfda3a997c"
      },
      "outputs": [
        {
          "name": "stdout",
          "output_type": "stream",
          "text": [
            "\n",
            "\n",
            "-------------------------\n",
            "Node: c Cost:4\n",
            "-------------------------\n",
            "neighbours of c are {'e': 17, 'f': 12}\n",
            "{'b': 9, 'c': 4, 'd': 7, 'e': inf, 'f': inf, 'z': inf}\n",
            "New cost to get to c=>e: 21\n",
            "Parent of e is now c\n",
            "{'b': 9, 'c': 4, 'd': 7, 'e': 21, 'f': inf, 'z': inf}\n",
            "New cost to get to c=>f: 16\n",
            "Parent of f is now c\n",
            "\n",
            "\n",
            "-------------------------\n",
            "Node: d Cost:7\n",
            "-------------------------\n",
            "neighbours of d are {'f': 14}\n",
            "{'b': 9, 'c': 4, 'd': 7, 'e': 21, 'f': 16, 'z': inf}\n",
            "New cost to get to d=>f: 21\n",
            "\n",
            "\n",
            "-------------------------\n",
            "Node: b Cost:9\n",
            "-------------------------\n",
            "neighbours of b are {'e': 11}\n",
            "{'b': 9, 'c': 4, 'd': 7, 'e': 21, 'f': 16, 'z': inf}\n",
            "New cost to get to b=>e: 20\n",
            "Parent of e is now b\n",
            "\n",
            "\n",
            "-------------------------\n",
            "Node: f Cost:16\n",
            "-------------------------\n",
            "neighbours of f are {'z': 9}\n",
            "{'b': 9, 'c': 4, 'd': 7, 'e': 20, 'f': 16, 'z': inf}\n",
            "New cost to get to f=>z: 25\n",
            "Parent of z is now f\n",
            "\n",
            "\n",
            "-------------------------\n",
            "Node: e Cost:20\n",
            "-------------------------\n",
            "neighbours of e are {'z': 5}\n",
            "{'b': 9, 'c': 4, 'd': 7, 'e': 20, 'f': 16, 'z': 25}\n",
            "New cost to get to e=>z: 25\n",
            "\n",
            "\n",
            "-------------------------\n",
            "Node: z Cost:25\n",
            "-------------------------\n",
            "neighbours of z are None\n",
            "\n",
            "\n",
            "Nodes Processed:  ['c', 'd', 'b', 'f', 'e', 'z']\n",
            "Shortest distances from node 'a' to all other nodes:\n",
            "Node 'b' : Distance = 9\n",
            "Node 'c' : Distance = 4\n",
            "Node 'd' : Distance = 7\n",
            "Node 'e' : Distance = 20\n",
            "Node 'f' : Distance = 16\n",
            "Node 'z' : Distance = 25\n"
          ]
        }
      ],
      "source": [
        "print(\"\\n\")\n",
        "start_node = \"a\"\n",
        "distances = dijkstras_algorithm(graph,costs,parents)\n",
        "print(\"Shortest distances from node '{}' to all other nodes:\".format(start_node))\n",
        "for node, distance in distances.items():\n",
        "    print(\"Node '{}' : Distance = {}\".format(node, distance))"
      ]
    }
  ],
  "metadata": {
    "colab": {
      "provenance": []
    },
    "kernelspec": {
      "display_name": "Python 3",
      "name": "python3"
    },
    "language_info": {
      "name": "python"
    }
  },
  "nbformat": 4,
  "nbformat_minor": 0
}
