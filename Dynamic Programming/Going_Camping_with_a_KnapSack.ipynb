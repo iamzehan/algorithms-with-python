{
  "nbformat": 4,
  "nbformat_minor": 0,
  "metadata": {
    "colab": {
      "provenance": [],
      "authorship_tag": "ABX9TyM7iSMiunLcYru+olXzK4Te",
      "include_colab_link": true
    },
    "kernelspec": {
      "name": "python3",
      "display_name": "Python 3"
    },
    "language_info": {
      "name": "python"
    }
  },
  "cells": [
    {
      "cell_type": "markdown",
      "metadata": {
        "id": "view-in-github",
        "colab_type": "text"
      },
      "source": [
        "<a href=\"https://colab.research.google.com/github/iamzehan/algorithms-with-python/blob/main/Dynamic%20Programming/Going_Camping_with_a_KnapSack.ipynb\" target=\"_parent\"><img src=\"https://colab.research.google.com/assets/colab-badge.svg\" alt=\"Open In Colab\"/></a>"
      ]
    },
    {
      "cell_type": "markdown",
      "source": [
        "Suppose you’re going camping. You have a knapsack that will hold 6 lb, and you can take the following items. Each has a value, and the higher the value, the more important the item is:\n",
        "\n",
        "* Water, 3 lb, 10\n",
        "* Book, 1 lb, 3\n",
        "* Food, 2 lb, 9\n",
        "* Jacket, 2 lb, 5\n",
        "* Camera, 1 lb, 6\n",
        "\n",
        "What’s the optimal set of items to take on your camping trip?"
      ],
      "metadata": {
        "id": "zSJS1MX8gR9j"
      }
    },
    {
      "cell_type": "code",
      "execution_count": 1,
      "metadata": {
        "colab": {
          "base_uri": "https://localhost:8080/"
        },
        "id": "JSi6DtnxgELj",
        "outputId": "4e20deef-b164-483a-b9a6-a0125ab47998"
      },
      "outputs": [
        {
          "output_type": "stream",
          "name": "stdout",
          "text": [
            "Optimal set of items to take:\n",
            "Camera - Weight: 1 lb, Value: $6\n",
            "Food - Weight: 2 lb, Value: $9\n",
            "Water - Weight: 3 lb, Value: $10\n",
            "Total Value: $25\n"
          ]
        }
      ],
      "source": [
        "def camping_knapsack(items, capacity):\n",
        "    n = len(items)\n",
        "    # Initialize a table to store the maximum values for different capacities\n",
        "    dp = [[0] * (capacity + 1) for _ in range(n + 1)]\n",
        "\n",
        "    for i in range(1, n + 1):\n",
        "        for w in range(1, capacity + 1):\n",
        "            # If the current item can fit in the knapsack, consider taking it\n",
        "            if items[i - 1][1] <= w:\n",
        "                dp[i][w] = max(dp[i - 1][w], dp[i - 1][w - items[i - 1][1]] + items[i - 1][2])\n",
        "            else:\n",
        "                # If it can't fit, don't take it\n",
        "                dp[i][w] = dp[i - 1][w]\n",
        "\n",
        "    # Backtrack to find the selected items\n",
        "    selected_items = []\n",
        "    i, w = n, capacity\n",
        "    while i > 0 and w > 0:\n",
        "        if dp[i][w] != dp[i - 1][w]:\n",
        "            selected_items.append(items[i - 1])\n",
        "            w -= items[i - 1][1]\n",
        "        i -= 1\n",
        "\n",
        "    return dp[n][capacity], selected_items\n",
        "\n",
        "# Define the items\n",
        "items = [(\"Water\", 3, 10), (\"Book\", 1, 3), (\"Food\", 2, 9), (\"Jacket\", 2, 5), (\"Camera\", 1, 6)]\n",
        "\n",
        "# Define the knapsack capacity\n",
        "capacity = 6\n",
        "\n",
        "# Find the optimal set of items and their total value\n",
        "max_value, selected_items = camping_knapsack(items, capacity)\n",
        "\n",
        "# Print the results\n",
        "print(f\"Optimal set of items to take:\")\n",
        "for item in selected_items:\n",
        "    print(f\"{item[0]} - Weight: {item[1]} lb, Value: ${item[2]}\")\n",
        "print(f\"Total Value: ${max_value}\")\n"
      ]
    }
  ]
}