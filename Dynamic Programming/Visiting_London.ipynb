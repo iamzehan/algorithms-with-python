{
  "nbformat": 4,
  "nbformat_minor": 0,
  "metadata": {
    "colab": {
      "provenance": [],
      "authorship_tag": "ABX9TyM0a9k6iia3NpEo8yk2dZ3v",
      "include_colab_link": true
    },
    "kernelspec": {
      "name": "python3",
      "display_name": "Python 3"
    },
    "language_info": {
      "name": "python"
    }
  },
  "cells": [
    {
      "cell_type": "markdown",
      "metadata": {
        "id": "view-in-github",
        "colab_type": "text"
      },
      "source": [
        "<a href=\"https://colab.research.google.com/github/iamzehan/algorithms-with-python/blob/main/Dynamic%20Programming/Visiting_London.ipynb\" target=\"_parent\"><img src=\"https://colab.research.google.com/assets/colab-badge.svg\" alt=\"Open In Colab\"/></a>"
      ]
    },
    {
      "cell_type": "markdown",
      "source": [
        "* Supppose you are going to London for a nice vacation. You have two days there and a lot of things you want to do. You can't do everything, so you make a list.\n",
        "\n",
        "\n",
        "| Attraction             | Duration (days) | Rating |\n",
        "|------------------------|------------------|--------|\n",
        "| WESTMINSTER ABBEY      | 0.5              | 7      |\n",
        "| GLOBE THEATER          | 0.5              | 6      |\n",
        "| NATIONAL GALLERY       | 1                | 9      |\n",
        "| BRITISH MUSEUM         | 2                | 8      |\n",
        "| ST. PAUL'S CATHEDRAL   | 0.5              | 8      |\n",
        "\n",
        "\n",
        "* Your task is to determine the most effective strategy for utilizing your available time to maximize the overall value, taking into account the ratings of the places you intend to visit."
      ],
      "metadata": {
        "id": "4f1NLt6NLtQx"
      }
    },
    {
      "cell_type": "code",
      "execution_count": null,
      "metadata": {
        "id": "606Z3k8vLLx9"
      },
      "outputs": [],
      "source": [
        "def maximize_rating(attractions, available_time):\n",
        "    n = len(attractions)  # Number of attractions\n",
        "\n",
        "    # Create a 2D table to store the maximum rating for different time constraints\n",
        "    dp = [[0] * (int(available_time * 2) + 1) for _ in range(n + 1)]\n",
        "\n",
        "    for i in range(1, n + 1):\n",
        "        for t in range(1, int(available_time * 2) + 1):\n",
        "            name, duration, rating = attractions[i - 1]\n",
        "            if duration <= t / 2:\n",
        "                dp[i][t] = max(dp[i - 1][t], dp[i - 1][int(t - 2 * duration)] + rating)\n",
        "            else:\n",
        "                dp[i][t] = dp[i - 1][t]\n",
        "\n",
        "    # Backtrack to find the selected attractions\n",
        "    selected_attractions = []\n",
        "    i, t = n, int(available_time * 2)\n",
        "    while i > 0 and t > 0:\n",
        "        if dp[i][t] != dp[i - 1][t]:\n",
        "            name, duration, rating = attractions[i - 1]\n",
        "            selected_attractions.append(attractions[i - 1])\n",
        "            t -= int(2 * duration)\n",
        "        i -= 1\n",
        "\n",
        "    return dp[n][int(available_time * 2)], selected_attractions\n",
        "\n",
        "# Define the attractions and available time\n",
        "attractions = [\n",
        "    (\"WESTMINSTER ABBEY\", 0.5, 7),\n",
        "    (\"GLOBE THEATER\", 0.5, 6),\n",
        "    (\"NATIONAL GALLERY\", 1, 9),\n",
        "    (\"BRITISH MUSEUM\", 2, 8),\n",
        "    (\"ST. PAUL'S CATHEDRAL\", 0.5, 8),\n",
        "]\n",
        "\n",
        "available_time = 2.0  # 2 days\n",
        "\n",
        "# Find the optimal set of attractions and their total rating\n",
        "max_rating, selected_attractions = maximize_rating(attractions, available_time)\n",
        "\n",
        "# Print the results\n",
        "print(f\"Optimal set of attractions to visit:\")\n",
        "for attraction in selected_attractions:\n",
        "    print(f\"{attraction[0]} - Duration: {attraction[1]} days, Rating: {attraction[2]}\")\n",
        "print(f\"Total Rating: {max_rating}\")\n"
      ]
    }
  ]
}